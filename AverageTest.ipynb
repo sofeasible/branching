{
 "cells": [
  {
   "cell_type": "code",
   "execution_count": 1,
   "metadata": {},
   "outputs": [],
   "source": [
    "import pandas as pd\n",
    "import numpy as np \n",
    "\n",
    "import matplotlib.pyplot as plt\n",
    "\n",
    "# Import MAVE-NN\n",
    "import mavenn"
   ]
  },
  {
   "cell_type": "code",
   "execution_count": 2,
   "metadata": {},
   "outputs": [],
   "source": [
    "data_df_large = pd.read_csv('/Users/sophiazebell/Dropbox (CSHL Dropbox Team)/Sophia Zebell CSHL Files/SEPs/J2_Log_Averages_large.csv')"
   ]
  },
  {
   "cell_type": "code",
   "execution_count": 4,
   "metadata": {},
   "outputs": [
    {
     "name": "stdout",
     "output_type": "stream",
     "text": [
      "Sequence length: 4 amino acids (+ stops)\n",
      "trainval_df:\n",
      "N = 3,780 observations set as training data.\n",
      "Using 4.9% for validation.\n",
      "Data shuffled.\n",
      "Time to set data: 0.0505 sec.\n"
     ]
    },
    {
     "ename": "ValueError",
     "evalue": "Input 0 of layer \"model_3\" is incompatible with the layer: expected shape=(None, 85), found shape=(3780, 84)",
     "output_type": "error",
     "traceback": [
      "\u001b[0;31m---------------------------------------------------------------------------\u001b[0m",
      "\u001b[0;31mValueError\u001b[0m                                Traceback (most recent call last)",
      "\u001b[1;32mUntitled-1.ipynb Cell 3\u001b[0m line \u001b[0;36m3\n\u001b[1;32m     <a href='vscode-notebook-cell:Untitled-1.ipynb?jupyter-notebook#W2sdW50aXRsZWQ%3D?line=24'>25</a>\u001b[0m model\u001b[39m.\u001b[39mset_data(x\u001b[39m=\u001b[39mtrainval_df[\u001b[39m'\u001b[39m\u001b[39mCoded Genotype\u001b[39m\u001b[39m'\u001b[39m],\n\u001b[1;32m     <a href='vscode-notebook-cell:Untitled-1.ipynb?jupyter-notebook#W2sdW50aXRsZWQ%3D?line=25'>26</a>\u001b[0m                y\u001b[39m=\u001b[39mtrainval_df[\u001b[39m'\u001b[39m\u001b[39mvalue\u001b[39m\u001b[39m'\u001b[39m],\n\u001b[1;32m     <a href='vscode-notebook-cell:Untitled-1.ipynb?jupyter-notebook#W2sdW50aXRsZWQ%3D?line=26'>27</a>\u001b[0m                validation_frac\u001b[39m=\u001b[39m \u001b[39m0.05\u001b[39m)\n\u001b[1;32m     <a href='vscode-notebook-cell:Untitled-1.ipynb?jupyter-notebook#W2sdW50aXRsZWQ%3D?line=27'>28</a>\u001b[0m \u001b[39m#               validation_flags=trainval_df['validation'])\u001b[39;00m\n\u001b[1;32m     <a href='vscode-notebook-cell:Untitled-1.ipynb?jupyter-notebook#W2sdW50aXRsZWQ%3D?line=28'>29</a>\u001b[0m \n\u001b[1;32m     <a href='vscode-notebook-cell:Untitled-1.ipynb?jupyter-notebook#W2sdW50aXRsZWQ%3D?line=29'>30</a>\u001b[0m \u001b[39m# Train model\u001b[39;00m\n\u001b[0;32m---> <a href='vscode-notebook-cell:Untitled-1.ipynb?jupyter-notebook#W2sdW50aXRsZWQ%3D?line=30'>31</a>\u001b[0m model\u001b[39m.\u001b[39;49mfit(learning_rate\u001b[39m=\u001b[39;49m\u001b[39m1e-3\u001b[39;49m,\n\u001b[1;32m     <a href='vscode-notebook-cell:Untitled-1.ipynb?jupyter-notebook#W2sdW50aXRsZWQ%3D?line=31'>32</a>\u001b[0m           epochs\u001b[39m=\u001b[39;49m\u001b[39m500\u001b[39;49m,\n\u001b[1;32m     <a href='vscode-notebook-cell:Untitled-1.ipynb?jupyter-notebook#W2sdW50aXRsZWQ%3D?line=32'>33</a>\u001b[0m           batch_size\u001b[39m=\u001b[39;49m\u001b[39m64\u001b[39;49m,\n\u001b[1;32m     <a href='vscode-notebook-cell:Untitled-1.ipynb?jupyter-notebook#W2sdW50aXRsZWQ%3D?line=33'>34</a>\u001b[0m           early_stopping\u001b[39m=\u001b[39;49m\u001b[39mTrue\u001b[39;49;00m,\n\u001b[1;32m     <a href='vscode-notebook-cell:Untitled-1.ipynb?jupyter-notebook#W2sdW50aXRsZWQ%3D?line=34'>35</a>\u001b[0m           early_stopping_patience\u001b[39m=\u001b[39;49m\u001b[39m25\u001b[39;49m,\n\u001b[1;32m     <a href='vscode-notebook-cell:Untitled-1.ipynb?jupyter-notebook#W2sdW50aXRsZWQ%3D?line=35'>36</a>\u001b[0m           verbose\u001b[39m=\u001b[39;49m\u001b[39mFalse\u001b[39;49;00m)\n",
      "File \u001b[0;32m~/anaconda3/lib/python3.10/site-packages/mavenn/src/error_handling.py:98\u001b[0m, in \u001b[0;36mhandle_errors.<locals>.wrapped_func\u001b[0;34m(*args, **kwargs)\u001b[0m\n\u001b[1;32m     94\u001b[0m mistake \u001b[39m=\u001b[39m \u001b[39mNone\u001b[39;00m\n\u001b[1;32m     96\u001b[0m \u001b[39mtry\u001b[39;00m:\n\u001b[1;32m     97\u001b[0m     \u001b[39m# Execute function\u001b[39;00m\n\u001b[0;32m---> 98\u001b[0m     result \u001b[39m=\u001b[39m func(\u001b[39m*\u001b[39;49margs, \u001b[39m*\u001b[39;49m\u001b[39m*\u001b[39;49mkwargs)\n\u001b[1;32m    100\u001b[0m     \u001b[39m# If running functional test and expect to fail\u001b[39;00m\n\u001b[1;32m    101\u001b[0m     \u001b[39mif\u001b[39;00m should_fail \u001b[39mis\u001b[39;00m \u001b[39mTrue\u001b[39;00m:\n",
      "File \u001b[0;32m~/anaconda3/lib/python3.10/site-packages/mavenn/src/model.py:691\u001b[0m, in \u001b[0;36mModel.fit\u001b[0;34m(self, epochs, learning_rate, validation_split, verbose, early_stopping, early_stopping_patience, batch_size, linear_initialization, callbacks, optimizer, optimizer_kwargs, fit_kwargs)\u001b[0m\n\u001b[1;32m    685\u001b[0m \u001b[39mself\u001b[39m\u001b[39m.\u001b[39m_unfixed_gpmap \u001b[39m=\u001b[39m K\u001b[39m.\u001b[39mfunction(\n\u001b[1;32m    686\u001b[0m     [\u001b[39mself\u001b[39m\u001b[39m.\u001b[39mmodel\u001b[39m.\u001b[39mmodel\u001b[39m.\u001b[39mlayers[\u001b[39m1\u001b[39m]\u001b[39m.\u001b[39minput],\n\u001b[1;32m    687\u001b[0m     [\u001b[39mself\u001b[39m\u001b[39m.\u001b[39mmodel\u001b[39m.\u001b[39mmodel\u001b[39m.\u001b[39mlayers[\u001b[39m2\u001b[39m]\u001b[39m.\u001b[39moutput])\n\u001b[1;32m    689\u001b[0m \u001b[39m# compute unfixed phi using the function unfixed_gpmap with\u001b[39;00m\n\u001b[1;32m    690\u001b[0m \u001b[39m# training sequences.\u001b[39;00m\n\u001b[0;32m--> 691\u001b[0m unfixed_phi \u001b[39m=\u001b[39m \u001b[39mself\u001b[39;49m\u001b[39m.\u001b[39;49m_unfixed_gpmap(\u001b[39mself\u001b[39;49m\u001b[39m.\u001b[39;49mx_ohe)[\u001b[39m0\u001b[39m]\u001b[39m.\u001b[39mravel()\n\u001b[1;32m    693\u001b[0m \u001b[39m# Set stats\u001b[39;00m\n\u001b[1;32m    694\u001b[0m \u001b[39mself\u001b[39m\u001b[39m.\u001b[39munfixed_phi_mean \u001b[39m=\u001b[39m np\u001b[39m.\u001b[39mmean(unfixed_phi)\n",
      "File \u001b[0;32m~/anaconda3/lib/python3.10/site-packages/keras/src/backend.py:4661\u001b[0m, in \u001b[0;36mfunction.<locals>.func\u001b[0;34m(model_inputs)\u001b[0m\n\u001b[1;32m   4660\u001b[0m \u001b[39mdef\u001b[39;00m \u001b[39mfunc\u001b[39m(model_inputs):\n\u001b[0;32m-> 4661\u001b[0m     outs \u001b[39m=\u001b[39m model(model_inputs)\n\u001b[1;32m   4662\u001b[0m     \u001b[39mif\u001b[39;00m wrap_outputs:\n\u001b[1;32m   4663\u001b[0m         outs \u001b[39m=\u001b[39m [outs]\n",
      "File \u001b[0;32m~/anaconda3/lib/python3.10/site-packages/keras/src/utils/traceback_utils.py:70\u001b[0m, in \u001b[0;36mfilter_traceback.<locals>.error_handler\u001b[0;34m(*args, **kwargs)\u001b[0m\n\u001b[1;32m     67\u001b[0m     filtered_tb \u001b[39m=\u001b[39m _process_traceback_frames(e\u001b[39m.\u001b[39m__traceback__)\n\u001b[1;32m     68\u001b[0m     \u001b[39m# To get the full stack trace, call:\u001b[39;00m\n\u001b[1;32m     69\u001b[0m     \u001b[39m# `tf.debugging.disable_traceback_filtering()`\u001b[39;00m\n\u001b[0;32m---> 70\u001b[0m     \u001b[39mraise\u001b[39;00m e\u001b[39m.\u001b[39mwith_traceback(filtered_tb) \u001b[39mfrom\u001b[39;00m \u001b[39mNone\u001b[39m\n\u001b[1;32m     71\u001b[0m \u001b[39mfinally\u001b[39;00m:\n\u001b[1;32m     72\u001b[0m     \u001b[39mdel\u001b[39;00m filtered_tb\n",
      "File \u001b[0;32m~/anaconda3/lib/python3.10/site-packages/keras/src/engine/input_spec.py:298\u001b[0m, in \u001b[0;36massert_input_compatibility\u001b[0;34m(input_spec, inputs, layer_name)\u001b[0m\n\u001b[1;32m    296\u001b[0m \u001b[39mif\u001b[39;00m spec_dim \u001b[39mis\u001b[39;00m \u001b[39mnot\u001b[39;00m \u001b[39mNone\u001b[39;00m \u001b[39mand\u001b[39;00m dim \u001b[39mis\u001b[39;00m \u001b[39mnot\u001b[39;00m \u001b[39mNone\u001b[39;00m:\n\u001b[1;32m    297\u001b[0m     \u001b[39mif\u001b[39;00m spec_dim \u001b[39m!=\u001b[39m dim:\n\u001b[0;32m--> 298\u001b[0m         \u001b[39mraise\u001b[39;00m \u001b[39mValueError\u001b[39;00m(\n\u001b[1;32m    299\u001b[0m             \u001b[39mf\u001b[39m\u001b[39m'\u001b[39m\u001b[39mInput \u001b[39m\u001b[39m{\u001b[39;00minput_index\u001b[39m}\u001b[39;00m\u001b[39m of layer \u001b[39m\u001b[39m\"\u001b[39m\u001b[39m{\u001b[39;00mlayer_name\u001b[39m}\u001b[39;00m\u001b[39m\"\u001b[39m\u001b[39m is \u001b[39m\u001b[39m'\u001b[39m\n\u001b[1;32m    300\u001b[0m             \u001b[39m\"\u001b[39m\u001b[39mincompatible with the layer: \u001b[39m\u001b[39m\"\u001b[39m\n\u001b[1;32m    301\u001b[0m             \u001b[39mf\u001b[39m\u001b[39m\"\u001b[39m\u001b[39mexpected shape=\u001b[39m\u001b[39m{\u001b[39;00mspec\u001b[39m.\u001b[39mshape\u001b[39m}\u001b[39;00m\u001b[39m, \u001b[39m\u001b[39m\"\u001b[39m\n\u001b[1;32m    302\u001b[0m             \u001b[39mf\u001b[39m\u001b[39m\"\u001b[39m\u001b[39mfound shape=\u001b[39m\u001b[39m{\u001b[39;00mdisplay_shape(x\u001b[39m.\u001b[39mshape)\u001b[39m}\u001b[39;00m\u001b[39m\"\u001b[39m\n\u001b[1;32m    303\u001b[0m         )\n",
      "\u001b[0;31mValueError\u001b[0m: Input 0 of layer \"model_3\" is incompatible with the layer: expected shape=(None, 85), found shape=(3780, 84)"
     ]
    }
   ],
   "source": [
    "# Get and report sequence length\n",
    "L = len(data_df_large.loc[0,'Coded Genotype'])\n",
    "print(f'Sequence length: {L:d} amino acids (+ stops)')\n",
    "\n",
    "# Split dataset\n",
    "test_df = data_df_large.sample(frac=0.10)\n",
    "trainval_df = data_df_large.drop(test_df.index)\n",
    "\n",
    "# Preview trainval_df\n",
    "print('trainval_df:')\n",
    "trainval_df\n",
    "\n",
    "# Define model\n",
    "model = mavenn.Model(L=L,\n",
    "                     alphabet='protein*',\n",
    "                     gpmap_type='additive',\n",
    "                     regression_type='GE',\n",
    "                     ge_nonlinearity_type='nonlinear',\n",
    "                     ge_nonlinearity_monotonic=False,\n",
    "                     ge_nonlinearity_hidden_nodes=10,\n",
    "                     ge_noise_model_type='Gaussian',\n",
    "                     ge_heteroskedasticity_order=2)\n",
    "\n",
    "# Set training data\n",
    "model.set_data(x=trainval_df['Coded Genotype'],\n",
    "               y=trainval_df['value'],\n",
    "               validation_frac= 0.05)\n",
    "\n",
    "# Train model\n",
    "model.fit(learning_rate=1e-3,\n",
    "          epochs=500,\n",
    "          batch_size=64,\n",
    "          early_stopping=True,\n",
    "          early_stopping_patience=25,\n",
    "          verbose=False);"
   ]
  }
 ],
 "metadata": {
  "kernelspec": {
   "display_name": "base",
   "language": "python",
   "name": "python3"
  },
  "language_info": {
   "codemirror_mode": {
    "name": "ipython",
    "version": 3
   },
   "file_extension": ".py",
   "mimetype": "text/x-python",
   "name": "python",
   "nbconvert_exporter": "python",
   "pygments_lexer": "ipython3",
   "version": "3.10.9"
  }
 },
 "nbformat": 4,
 "nbformat_minor": 2
}
